{
 "cells": [
  {
   "cell_type": "code",
   "execution_count": 2,
   "metadata": {},
   "outputs": [],
   "source": [
    "import pandas as pd\n",
    "import numpy as np\n",
    "import scipy.stats as stats\n",
    "import matplotlib\n",
    "import matplotlib.pyplot as plt\n",
    "from sklearn.linear_model import LinearRegression\n",
    "from sklearn import linear_model\n",
    "import math\n",
    "df = pd.read_csv('C:/Users/Dell/Desktop/PatientSatisfaction.csv')"
   ]
  },
  {
   "cell_type": "code",
   "execution_count": 3,
   "metadata": {},
   "outputs": [
    {
     "data": {
      "text/html": [
       "<div>\n",
       "<style scoped>\n",
       "    .dataframe tbody tr th:only-of-type {\n",
       "        vertical-align: middle;\n",
       "    }\n",
       "\n",
       "    .dataframe tbody tr th {\n",
       "        vertical-align: top;\n",
       "    }\n",
       "\n",
       "    .dataframe thead th {\n",
       "        text-align: right;\n",
       "    }\n",
       "</style>\n",
       "<table border=\"1\" class=\"dataframe\">\n",
       "  <thead>\n",
       "    <tr style=\"text-align: right;\">\n",
       "      <th></th>\n",
       "      <th>OBS</th>\n",
       "      <th>SATISFAC</th>\n",
       "      <th>AGE</th>\n",
       "      <th>SEVERITY</th>\n",
       "      <th>ANXIETY</th>\n",
       "    </tr>\n",
       "  </thead>\n",
       "  <tbody>\n",
       "    <tr>\n",
       "      <th>0</th>\n",
       "      <td>1</td>\n",
       "      <td>48</td>\n",
       "      <td>50</td>\n",
       "      <td>51</td>\n",
       "      <td>2.3</td>\n",
       "    </tr>\n",
       "    <tr>\n",
       "      <th>1</th>\n",
       "      <td>2</td>\n",
       "      <td>57</td>\n",
       "      <td>36</td>\n",
       "      <td>46</td>\n",
       "      <td>2.3</td>\n",
       "    </tr>\n",
       "    <tr>\n",
       "      <th>2</th>\n",
       "      <td>3</td>\n",
       "      <td>66</td>\n",
       "      <td>40</td>\n",
       "      <td>48</td>\n",
       "      <td>2.2</td>\n",
       "    </tr>\n",
       "    <tr>\n",
       "      <th>3</th>\n",
       "      <td>4</td>\n",
       "      <td>70</td>\n",
       "      <td>41</td>\n",
       "      <td>44</td>\n",
       "      <td>1.8</td>\n",
       "    </tr>\n",
       "    <tr>\n",
       "      <th>4</th>\n",
       "      <td>5</td>\n",
       "      <td>89</td>\n",
       "      <td>28</td>\n",
       "      <td>43</td>\n",
       "      <td>1.8</td>\n",
       "    </tr>\n",
       "  </tbody>\n",
       "</table>\n",
       "</div>"
      ],
      "text/plain": [
       "   OBS  SATISFAC  AGE  SEVERITY  ANXIETY\n",
       "0    1        48   50        51      2.3\n",
       "1    2        57   36        46      2.3\n",
       "2    3        66   40        48      2.2\n",
       "3    4        70   41        44      1.8\n",
       "4    5        89   28        43      1.8"
      ]
     },
     "execution_count": 3,
     "metadata": {},
     "output_type": "execute_result"
    }
   ],
   "source": [
    "df.head()"
   ]
  },
  {
   "cell_type": "code",
   "execution_count": 107,
   "metadata": {},
   "outputs": [
    {
     "data": {
      "text/html": [
       "<div>\n",
       "<style scoped>\n",
       "    .dataframe tbody tr th:only-of-type {\n",
       "        vertical-align: middle;\n",
       "    }\n",
       "\n",
       "    .dataframe tbody tr th {\n",
       "        vertical-align: top;\n",
       "    }\n",
       "\n",
       "    .dataframe thead th {\n",
       "        text-align: right;\n",
       "    }\n",
       "</style>\n",
       "<table border=\"1\" class=\"dataframe\">\n",
       "  <thead>\n",
       "    <tr style=\"text-align: right;\">\n",
       "      <th></th>\n",
       "      <th>SATISFAC</th>\n",
       "      <th>AGE</th>\n",
       "      <th>SEVERITY</th>\n",
       "      <th>ANXIETY</th>\n",
       "    </tr>\n",
       "  </thead>\n",
       "  <tbody>\n",
       "    <tr>\n",
       "      <th>SATISFAC</th>\n",
       "      <td>1.000000</td>\n",
       "      <td>-0.773683</td>\n",
       "      <td>-0.587444</td>\n",
       "      <td>-0.602310</td>\n",
       "    </tr>\n",
       "    <tr>\n",
       "      <th>AGE</th>\n",
       "      <td>-0.773683</td>\n",
       "      <td>1.000000</td>\n",
       "      <td>0.466609</td>\n",
       "      <td>0.497695</td>\n",
       "    </tr>\n",
       "    <tr>\n",
       "      <th>SEVERITY</th>\n",
       "      <td>-0.587444</td>\n",
       "      <td>0.466609</td>\n",
       "      <td>1.000000</td>\n",
       "      <td>0.794527</td>\n",
       "    </tr>\n",
       "    <tr>\n",
       "      <th>ANXIETY</th>\n",
       "      <td>-0.602310</td>\n",
       "      <td>0.497695</td>\n",
       "      <td>0.794527</td>\n",
       "      <td>1.000000</td>\n",
       "    </tr>\n",
       "  </tbody>\n",
       "</table>\n",
       "</div>"
      ],
      "text/plain": [
       "          SATISFAC       AGE  SEVERITY   ANXIETY\n",
       "SATISFAC  1.000000 -0.773683 -0.587444 -0.602310\n",
       "AGE      -0.773683  1.000000  0.466609  0.497695\n",
       "SEVERITY -0.587444  0.466609  1.000000  0.794527\n",
       "ANXIETY  -0.602310  0.497695  0.794527  1.000000"
      ]
     },
     "execution_count": 107,
     "metadata": {},
     "output_type": "execute_result"
    }
   ],
   "source": [
    "x=df[['SATISFAC','AGE','SEVERITY','ANXIETY']] #correlation_matrix\n",
    "y=df['SATISFAC']\n",
    "corr = x.corr()\n",
    "corr"
   ]
  },
  {
   "cell_type": "code",
   "execution_count": 108,
   "metadata": {},
   "outputs": [
    {
     "data": {
      "image/png": "[encoded data removed]",
      "text/plain": [
       "<Figure size 432x288 with 16 Axes>"
      ]
     },
     "metadata": {
      "needs_background": "light"
     },
     "output_type": "display_data"
    }
   ],
   "source": [
    "scatter = pd.plotting.scatter_matrix(x, c=y) #scatterplot_matrix"
   ]
  },
  {
   "cell_type": "code",
   "execution_count": 15,
   "metadata": {},
   "outputs": [
    {
     "data": {
      "text/plain": [
       "LinearRegression(copy_X=True, fit_intercept=False, n_jobs=None, normalize=False)"
      ]
     },
     "execution_count": 15,
     "metadata": {},
     "output_type": "execute_result"
    }
   ],
   "source": [
    "linreg = LinearRegression(fit_intercept=False).fit(df[['AGE','ANXIETY','SEVERITY']],df.SATISFAC) #fit_intercept=False\n",
    "linreg"
   ]
  },
  {
   "cell_type": "code",
   "execution_count": 16,
   "metadata": {},
   "outputs": [
    {
     "name": "stdout",
     "output_type": "stream",
     "text": [
      "linear model coeff (w): [ -1.23525259 -24.45986063   3.25500059]\n",
      "linear model intercept (b): 0.000\n",
      "R-squared score (training): -0.015\n"
     ]
    }
   ],
   "source": [
    "print('linear model coeff (w): {}'\n",
    "     .format(linreg.coef_))\n",
    "print('linear model intercept (b): {:.3f}'\n",
    "     .format(linreg.intercept_))\n",
    "print('R-squared score (training): {:.3f}'\n",
    "     .format(linreg.score(df[['AGE','ANXIETY','SEVERITY']],df.SATISFAC)))"
   ]
  },
  {
   "cell_type": "code",
   "execution_count": 17,
   "metadata": {},
   "outputs": [
    {
     "data": {
      "text/plain": [
       "LinearRegression(copy_X=True, fit_intercept=True, n_jobs=None, normalize=False)"
      ]
     },
     "execution_count": 17,
     "metadata": {},
     "output_type": "execute_result"
    }
   ],
   "source": [
    "linreg = LinearRegression().fit(df[['AGE','ANXIETY','SEVERITY']],df.SATISFAC) #fit_intercept=True\n",
    "linreg"
   ]
  },
  {
   "cell_type": "code",
   "execution_count": 18,
   "metadata": {},
   "outputs": [
    {
     "name": "stdout",
     "output_type": "stream",
     "text": [
      "linear model coeff (w): [-1.21031816 -8.61303151 -0.66590562]\n",
      "linear model intercept (b): 162.876\n",
      "R-squared score (training): 0.673\n"
     ]
    }
   ],
   "source": [
    "print('linear model coeff (w): {}'\n",
    "     .format(linreg.coef_))\n",
    "print('linear model intercept (b): {:.3f}'\n",
    "     .format(linreg.intercept_))\n",
    "print('R-squared score (training): {:.3f}'\n",
    "     .format(linreg.score(df[['AGE','ANXIETY','SEVERITY']],df.SATISFAC)))"
   ]
  },
  {
   "cell_type": "code",
   "execution_count": 19,
   "metadata": {},
   "outputs": [
    {
     "data": {
      "text/plain": [
       "0     48.588832\n",
       "1     68.862814\n",
       "2     63.551033\n",
       "3     68.449550\n",
       "4     84.849592\n",
       "5     42.633614\n",
       "6     59.798586\n",
       "7     55.776836\n",
       "8     33.675415\n",
       "9     76.394025\n",
       "10    75.141927\n",
       "11    54.867944\n",
       "12    61.310330\n",
       "13    67.953922\n",
       "14    43.821463\n",
       "15    69.449007\n",
       "16    64.112106\n",
       "17    80.780254\n",
       "18    72.218658\n",
       "19    41.675938\n",
       "20    73.339607\n",
       "21    46.021582\n",
       "22    57.726964\n",
       "dtype: float64"
      ]
     },
     "execution_count": 19,
     "metadata": {},
     "output_type": "execute_result"
    }
   ],
   "source": [
    "y_fitted = linreg.coef_[0]*df.AGE+linreg.coef_[1]*df.ANXIETY+linreg.coef_[2]*df.SEVERITY+linreg.intercept_ #fitted_values\n",
    "y_fitted"
   ]
  },
  {
   "cell_type": "code",
   "execution_count": 20,
   "metadata": {},
   "outputs": [
    {
     "data": {
      "text/plain": [
       "0      0.588832\n",
       "1     11.862814\n",
       "2      2.448967\n",
       "3      1.550450\n",
       "4      4.150408\n",
       "5      6.633614\n",
       "6     13.798586\n",
       "7      1.776836\n",
       "8      7.675415\n",
       "9      0.605975\n",
       "10    13.858073\n",
       "11    12.132056\n",
       "12    14.310330\n",
       "13    16.953922\n",
       "14    13.178537\n",
       "15     3.449007\n",
       "16    14.887894\n",
       "17     7.219746\n",
       "18    12.218658\n",
       "19     7.324062\n",
       "20     3.660393\n",
       "21     5.978418\n",
       "22     2.273036\n",
       "dtype: float64"
      ]
     },
     "execution_count": 20,
     "metadata": {},
     "output_type": "execute_result"
    }
   ],
   "source": [
    "resid=abs(y_fitted-df.SATISFAC) #residuals\n",
    "resid"
   ]
  },
  {
   "cell_type": "code",
   "execution_count": 68,
   "metadata": {},
   "outputs": [
    {
     "data": {
      "text/plain": [
       "<matplotlib.collections.PathCollection at 0x1a9cce2e748>"
      ]
     },
     "execution_count": 68,
     "metadata": {},
     "output_type": "execute_result"
    },
    {
     "data": {
      "image/png": "[encoded data removed]",
      "text/plain": [
       "<Figure size 432x288 with 1 Axes>"
      ]
     },
     "metadata": {
      "needs_background": "light"
     },
     "output_type": "display_data"
    }
   ],
   "source": [
    "%matplotlib inline  \n",
    "plt.xlabel('RESIDUAL') #plotting_residual_vs_fitted_values\n",
    "plt.ylabel('FITTED VALUE')\n",
    "plt.scatter(resid,y_fitted)"
   ]
  },
  {
   "cell_type": "code",
   "execution_count": 109,
   "metadata": {},
   "outputs": [
    {
     "data": {
      "text/plain": [
       "<matplotlib.collections.PathCollection at 0x1e56fd97080>"
      ]
     },
     "execution_count": 109,
     "metadata": {},
     "output_type": "execute_result"
    },
    {
     "data": {
      "image/png": "[encoded data removed]",
      "text/plain": [
       "<Figure size 432x288 with 1 Axes>"
      ]
     },
     "metadata": {
      "needs_background": "light"
     },
     "output_type": "display_data"
    }
   ],
   "source": [
    "%matplotlib inline  \n",
    "plt.xlabel('RESIDUAL') #plotting_residual_vs_AGE\n",
    "plt.ylabel('AGE')\n",
    "plt.scatter(resid,df.AGE)"
   ]
  },
  {
   "cell_type": "code",
   "execution_count": 110,
   "metadata": {},
   "outputs": [
    {
     "data": {
      "text/plain": [
       "<matplotlib.collections.PathCollection at 0x1e56fe1ac18>"
      ]
     },
     "execution_count": 110,
     "metadata": {},
     "output_type": "execute_result"
    },
    {
     "data": {
      "image/png": "[encoded data removed]",
      "text/plain": [
       "<Figure size 432x288 with 1 Axes>"
      ]
     },
     "metadata": {
      "needs_background": "light"
     },
     "output_type": "display_data"
    }
   ],
   "source": [
    "%matplotlib inline  \n",
    "plt.xlabel('RESIDUAL') #plotting_residual_vs_ANXIETY\n",
    "plt.ylabel('ANXIETY')\n",
    "plt.scatter(resid,df.ANXIETY)"
   ]
  },
  {
   "cell_type": "code",
   "execution_count": 111,
   "metadata": {},
   "outputs": [
    {
     "data": {
      "text/plain": [
       "<matplotlib.collections.PathCollection at 0x1e56fe84940>"
      ]
     },
     "execution_count": 111,
     "metadata": {},
     "output_type": "execute_result"
    },
    {
     "data": {
      "image/png": "[encoded data removed]",
      "text/plain": [
       "<Figure size 432x288 with 1 Axes>"
      ]
     },
     "metadata": {
      "needs_background": "light"
     },
     "output_type": "display_data"
    }
   ],
   "source": [
    "%matplotlib inline  \n",
    "plt.xlabel('RESIDUAL') #plotting_residual_vs_SEVERITY\n",
    "plt.ylabel('SEVERITY')\n",
    "plt.scatter(resid,df.SEVERITY)"
   ]
  },
  {
   "cell_type": "code",
   "execution_count": 13,
   "metadata": {},
   "outputs": [],
   "source": [
    "a = df.AGE*df.ANXIETY\n",
    "b = df.AGE*df.SEVERITY\n",
    "c = df.AGE*df.SATISFAC\n",
    "d = df.SATISFAC*df.ANXIETY\n",
    "e = df.SATISFAC*df.SEVERITY\n",
    "f = df.ANXIETY*df.SEVERITY"
   ]
  },
  {
   "cell_type": "code",
   "execution_count": 14,
   "metadata": {},
   "outputs": [
    {
     "data": {
      "text/plain": [
       "<matplotlib.collections.PathCollection at 0x1e56cc8fa20>"
      ]
     },
     "execution_count": 14,
     "metadata": {},
     "output_type": "execute_result"
    },
    {
     "data": {
      "image/png": "[encoded data removed]",
      "text/plain": [
       "<Figure size 432x288 with 1 Axes>"
      ]
     },
     "metadata": {
      "needs_background": "light"
     },
     "output_type": "display_data"
    }
   ],
   "source": [
    "plt.xlabel('RESIDUAL') #plotting_residual_vs_Two_factor_interaction\n",
    "plt.ylabel('AGE & ANXIETY')\n",
    "plt.scatter(resid,a)"
   ]
  },
  {
   "cell_type": "code",
   "execution_count": 15,
   "metadata": {},
   "outputs": [
    {
     "data": {
      "text/plain": [
       "<matplotlib.collections.PathCollection at 0x1e56ccf4278>"
      ]
     },
     "execution_count": 15,
     "metadata": {},
     "output_type": "execute_result"
    },
    {
     "data": {
      "image/png": "[encoded data removed]",
      "text/plain": [
       "<Figure size 432x288 with 1 Axes>"
      ]
     },
     "metadata": {
      "needs_background": "light"
     },
     "output_type": "display_data"
    }
   ],
   "source": [
    "plt.xlabel('RESIDUAL') #plotting_residual_vs_Two_factor_interaction\n",
    "plt.ylabel('AGE & SEVERITY')\n",
    "plt.scatter(resid,b)"
   ]
  },
  {
   "cell_type": "code",
   "execution_count": 16,
   "metadata": {},
   "outputs": [
    {
     "data": {
      "text/plain": [
       "<matplotlib.collections.PathCollection at 0x1e56cd56fd0>"
      ]
     },
     "execution_count": 16,
     "metadata": {},
     "output_type": "execute_result"
    },
    {
     "data": {
      "image/png": "[encoded data removed]",
      "text/plain": [
       "<Figure size 432x288 with 1 Axes>"
      ]
     },
     "metadata": {
      "needs_background": "light"
     },
     "output_type": "display_data"
    }
   ],
   "source": [
    "plt.xlabel('RESIDUAL') #plotting_residual_vs_Two_factor_interaction\n",
    "plt.ylabel('AGE & SATISFAC')\n",
    "plt.scatter(resid,c)"
   ]
  },
  {
   "cell_type": "code",
   "execution_count": 17,
   "metadata": {},
   "outputs": [
    {
     "data": {
      "text/plain": [
       "<matplotlib.collections.PathCollection at 0x1e56cdc30f0>"
      ]
     },
     "execution_count": 17,
     "metadata": {},
     "output_type": "execute_result"
    },
    {
     "data": {
      "image/png": "[encoded data removed]",
      "text/plain": [
       "<Figure size 432x288 with 1 Axes>"
      ]
     },
     "metadata": {
      "needs_background": "light"
     },
     "output_type": "display_data"
    }
   ],
   "source": [
    "plt.xlabel('RESIDUAL') #plotting_residual_vs_Two_factor_interaction\n",
    "plt.ylabel('SATISFACTION & ANXIETY')\n",
    "plt.scatter(resid,d)"
   ]
  },
  {
   "cell_type": "code",
   "execution_count": 18,
   "metadata": {},
   "outputs": [
    {
     "data": {
      "text/plain": [
       "<matplotlib.collections.PathCollection at 0x1e56cafbdd8>"
      ]
     },
     "execution_count": 18,
     "metadata": {},
     "output_type": "execute_result"
    },
    {
     "data": {
      "image/png": "[encoded data removed]",
      "text/plain": [
       "<Figure size 432x288 with 1 Axes>"
      ]
     },
     "metadata": {
      "needs_background": "light"
     },
     "output_type": "display_data"
    }
   ],
   "source": [
    "plt.xlabel('RESIDUAL') #plotting_residual_vs_Two_factor_interaction\n",
    "plt.ylabel('SATISFACTION & SEVERITY')\n",
    "plt.scatter(resid,e)"
   ]
  },
  {
   "cell_type": "code",
   "execution_count": 19,
   "metadata": {},
   "outputs": [
    {
     "data": {
      "text/plain": [
       "<matplotlib.collections.PathCollection at 0x1e56cb18a90>"
      ]
     },
     "execution_count": 19,
     "metadata": {},
     "output_type": "execute_result"
    },
    {
     "data": {
      "image/png": "[encoded data removed]",
      "text/plain": [
       "<Figure size 432x288 with 1 Axes>"
      ]
     },
     "metadata": {
      "needs_background": "light"
     },
     "output_type": "display_data"
    }
   ],
   "source": [
    "plt.xlabel('RESIDUAL') #plotting_residual_vs_Two_factor_interaction\n",
    "plt.ylabel('SEVERITY & ANXIETY')\n",
    "plt.scatter(resid,f)"
   ]
  },
  {
   "cell_type": "code",
   "execution_count": 22,
   "metadata": {},
   "outputs": [
    {
     "data": {
      "image/png": "[encoded data removed]",
      "text/plain": [
       "<Figure size 432x288 with 1 Axes>"
      ]
     },
     "metadata": {
      "needs_background": "light"
     },
     "output_type": "display_data"
    }
   ],
   "source": [
    "stats.probplot(resid, dist=\"norm\", fit=True, rvalue=True, plot=plt) #Normal_Probability_plot_SATISFACTION\n",
    "plt.xlabel(\"Residual\", labelpad=15)\n",
    "plt.title(\"Probability Plot to Compare Normally Distributed Values to Perfectly Normal Distribution\", y=1.015)\n",
    "plt.show()"
   ]
  },
  {
   "cell_type": "code",
   "execution_count": 115,
   "metadata": {},
   "outputs": [
    {
     "data": {
      "image/png": "[encoded data removed]",
      "text/plain": [
       "<Figure size 432x288 with 1 Axes>"
      ]
     },
     "metadata": {
      "needs_background": "light"
     },
     "output_type": "display_data"
    }
   ],
   "source": [
    "stats.probplot(df.SATISFAC, dist=\"norm\", fit=True, rvalue=True, plot=plt) #Normal_Probability_plot_SATISFACTION\n",
    "plt.xlabel(\"Satisfaction\", labelpad=15)\n",
    "plt.title(\"Probability Plot to Compare Normally Distributed Values to Perfectly Normal Distribution\", y=1.015)\n",
    "plt.show()"
   ]
  },
  {
   "cell_type": "code",
   "execution_count": 40,
   "metadata": {},
   "outputs": [
    {
     "data": {
      "image/png": "[encoded data removed]",
      "text/plain": [
       "<Figure size 432x288 with 1 Axes>"
      ]
     },
     "metadata": {
      "needs_background": "light"
     },
     "output_type": "display_data"
    }
   ],
   "source": [
    "stats.probplot(df.AGE, dist=\"norm\", fit=True, rvalue=True, plot=plt) #Normal_Probability_plot_AGE\n",
    "plt.xlabel(\"Age\", labelpad=15)\n",
    "plt.title(\"Probability Plot to Compare Normally Distributed Values to Perfectly Normal Distribution\", y=1.015)\n",
    "plt.show()"
   ]
  },
  {
   "cell_type": "code",
   "execution_count": 41,
   "metadata": {},
   "outputs": [
    {
     "data": {
      "image/png": "[encoded data removed]",
      "text/plain": [
       "<Figure size 432x288 with 1 Axes>"
      ]
     },
     "metadata": {
      "needs_background": "light"
     },
     "output_type": "display_data"
    }
   ],
   "source": [
    "stats.probplot(df.ANXIETY, dist=\"norm\", fit=True, rvalue=True, plot=plt) #Normal_Probability_plot_ANXIETY\n",
    "plt.xlabel(\"Anxiety\", labelpad=15)\n",
    "plt.title(\"Probability Plot to Compare Normally Distributed Values to Perfectly Normal Distribution\", y=1.015)\n",
    "plt.show()"
   ]
  },
  {
   "cell_type": "code",
   "execution_count": 42,
   "metadata": {},
   "outputs": [
    {
     "data": {
      "image/png": "[encoded data removed]",
      "text/plain": [
       "<Figure size 432x288 with 1 Axes>"
      ]
     },
     "metadata": {
      "needs_background": "light"
     },
     "output_type": "display_data"
    }
   ],
   "source": [
    "stats.probplot(df.SEVERITY, dist=\"norm\", fit=True, rvalue=True, plot=plt) #Normal_Probability_plot_SEVERITY\n",
    "plt.xlabel(\"Severity\", labelpad=15)\n",
    "plt.title(\"Probability Plot to Compare Normally Distributed Values to Perfectly Normal Distribution\", y=1.015)\n",
    "plt.show()"
   ]
  },
  {
   "cell_type": "code",
   "execution_count": 7,
   "metadata": {},
   "outputs": [],
   "source": [
    "X_dataset=df[['AGE','ANXIETY','SEVERITY']]\n",
    "y_dataset=df[['SATISFAC']]\n",
    "X=X_dataset.iloc[:].values\n",
    "y=y_dataset.iloc[:].values"
   ]
  },
  {
   "cell_type": "code",
   "execution_count": 8,
   "metadata": {},
   "outputs": [
    {
     "data": {
      "text/html": [
       "<table class=\"simpletable\">\n",
       "<caption>OLS Regression Results</caption>\n",
       "<tr>\n",
       "  <th>Dep. Variable:</th>            <td>y</td>        <th>  R-squared:         </th> <td>   0.673</td>\n",
       "</tr>\n",
       "<tr>\n",
       "  <th>Model:</th>                   <td>OLS</td>       <th>  Adj. R-squared:    </th> <td>   0.621</td>\n",
       "</tr>\n",
       "<tr>\n",
       "  <th>Method:</th>             <td>Least Squares</td>  <th>  F-statistic:       </th> <td>   13.01</td>\n",
       "</tr>\n",
       "<tr>\n",
       "  <th>Date:</th>             <td>Sat, 28 Sep 2019</td> <th>  Prob (F-statistic):</th> <td>7.48e-05</td>\n",
       "</tr>\n",
       "<tr>\n",
       "  <th>Time:</th>                 <td>18:56:38</td>     <th>  Log-Likelihood:    </th> <td> -84.054</td>\n",
       "</tr>\n",
       "<tr>\n",
       "  <th>No. Observations:</th>      <td>    23</td>      <th>  AIC:               </th> <td>   176.1</td>\n",
       "</tr>\n",
       "<tr>\n",
       "  <th>Df Residuals:</th>          <td>    19</td>      <th>  BIC:               </th> <td>   180.7</td>\n",
       "</tr>\n",
       "<tr>\n",
       "  <th>Df Model:</th>              <td>     3</td>      <th>                     </th>     <td> </td>   \n",
       "</tr>\n",
       "<tr>\n",
       "  <th>Covariance Type:</th>      <td>nonrobust</td>    <th>                     </th>     <td> </td>   \n",
       "</tr>\n",
       "</table>\n",
       "<table class=\"simpletable\">\n",
       "<tr>\n",
       "    <td></td>       <th>coef</th>     <th>std err</th>      <th>t</th>      <th>P>|t|</th>  <th>[0.025</th>    <th>0.975]</th>  \n",
       "</tr>\n",
       "<tr>\n",
       "  <th>const</th> <td>  162.8759</td> <td>   25.776</td> <td>    6.319</td> <td> 0.000</td> <td>  108.927</td> <td>  216.825</td>\n",
       "</tr>\n",
       "<tr>\n",
       "  <th>x1</th>    <td>   -1.2103</td> <td>    0.301</td> <td>   -4.015</td> <td> 0.001</td> <td>   -1.841</td> <td>   -0.579</td>\n",
       "</tr>\n",
       "<tr>\n",
       "  <th>x2</th>    <td>   -8.6130</td> <td>   12.241</td> <td>   -0.704</td> <td> 0.490</td> <td>  -34.234</td> <td>   17.008</td>\n",
       "</tr>\n",
       "<tr>\n",
       "  <th>x3</th>    <td>   -0.6659</td> <td>    0.821</td> <td>   -0.811</td> <td> 0.427</td> <td>   -2.384</td> <td>    1.052</td>\n",
       "</tr>\n",
       "</table>\n",
       "<table class=\"simpletable\">\n",
       "<tr>\n",
       "  <th>Omnibus:</th>       <td> 1.718</td> <th>  Durbin-Watson:     </th> <td>   1.994</td>\n",
       "</tr>\n",
       "<tr>\n",
       "  <th>Prob(Omnibus):</th> <td> 0.423</td> <th>  Jarque-Bera (JB):  </th> <td>   1.075</td>\n",
       "</tr>\n",
       "<tr>\n",
       "  <th>Skew:</th>          <td>-0.188</td> <th>  Prob(JB):          </th> <td>   0.584</td>\n",
       "</tr>\n",
       "<tr>\n",
       "  <th>Kurtosis:</th>      <td> 2.010</td> <th>  Cond. No.          </th> <td>    784.</td>\n",
       "</tr>\n",
       "</table><br/><br/>Warnings:<br/>[1] Standard Errors assume that the covariance matrix of the errors is correctly specified."
      ],
      "text/plain": [
       "<class 'statsmodels.iolib.summary.Summary'>\n",
       "\"\"\"\n",
       "                            OLS Regression Results                            \n",
       "==============================================================================\n",
       "Dep. Variable:                      y   R-squared:                       0.673\n",
       "Model:                            OLS   Adj. R-squared:                  0.621\n",
       "Method:                 Least Squares   F-statistic:                     13.01\n",
       "Date:                Sat, 28 Sep 2019   Prob (F-statistic):           7.48e-05\n",
       "Time:                        18:56:38   Log-Likelihood:                -84.054\n",
       "No. Observations:                  23   AIC:                             176.1\n",
       "Df Residuals:                      19   BIC:                             180.7\n",
       "Df Model:                           3                                         \n",
       "Covariance Type:            nonrobust                                         \n",
       "==============================================================================\n",
       "                 coef    std err          t      P>|t|      [0.025      0.975]\n",
       "------------------------------------------------------------------------------\n",
       "const        162.8759     25.776      6.319      0.000     108.927     216.825\n",
       "x1            -1.2103      0.301     -4.015      0.001      -1.841      -0.579\n",
       "x2            -8.6130     12.241     -0.704      0.490     -34.234      17.008\n",
       "x3            -0.6659      0.821     -0.811      0.427      -2.384       1.052\n",
       "==============================================================================\n",
       "Omnibus:                        1.718   Durbin-Watson:                   1.994\n",
       "Prob(Omnibus):                  0.423   Jarque-Bera (JB):                1.075\n",
       "Skew:                          -0.188   Prob(JB):                        0.584\n",
       "Kurtosis:                       2.010   Cond. No.                         784.\n",
       "==============================================================================\n",
       "\n",
       "Warnings:\n",
       "[1] Standard Errors assume that the covariance matrix of the errors is correctly specified.\n",
       "\"\"\""
      ]
     },
     "execution_count": 8,
     "metadata": {},
     "output_type": "execute_result"
    }
   ],
   "source": [
    "import statsmodels.api as sm\n",
    "\n",
    "X_with_const=sm.add_constant(X)\n",
    "model=sm.OLS(endog=y,exog=X_with_const)\n",
    "results=model.fit()\n",
    "results.summary()"
   ]
  },
  {
   "cell_type": "code",
   "execution_count": 39,
   "metadata": {},
   "outputs": [
    {
     "data": {
      "text/html": [
       "<table class=\"simpletable\">\n",
       "<caption>OLS Regression Results</caption>\n",
       "<tr>\n",
       "  <th>Dep. Variable:</th>            <td>y</td>        <th>  R-squared:         </th> <td>   0.599</td>\n",
       "</tr>\n",
       "<tr>\n",
       "  <th>Model:</th>                   <td>OLS</td>       <th>  Adj. R-squared:    </th> <td>   0.579</td>\n",
       "</tr>\n",
       "<tr>\n",
       "  <th>Method:</th>             <td>Least Squares</td>  <th>  F-statistic:       </th> <td>   31.31</td>\n",
       "</tr>\n",
       "<tr>\n",
       "  <th>Date:</th>             <td>Sat, 28 Sep 2019</td> <th>  Prob (F-statistic):</th> <td>1.49e-05</td>\n",
       "</tr>\n",
       "<tr>\n",
       "  <th>Time:</th>                 <td>23:06:02</td>     <th>  Log-Likelihood:    </th> <td> -86.400</td>\n",
       "</tr>\n",
       "<tr>\n",
       "  <th>No. Observations:</th>      <td>    23</td>      <th>  AIC:               </th> <td>   176.8</td>\n",
       "</tr>\n",
       "<tr>\n",
       "  <th>Df Residuals:</th>          <td>    21</td>      <th>  BIC:               </th> <td>   179.1</td>\n",
       "</tr>\n",
       "<tr>\n",
       "  <th>Df Model:</th>              <td>     1</td>      <th>                     </th>     <td> </td>   \n",
       "</tr>\n",
       "<tr>\n",
       "  <th>Covariance Type:</th>      <td>nonrobust</td>    <th>                     </th>     <td> </td>   \n",
       "</tr>\n",
       "</table>\n",
       "<table class=\"simpletable\">\n",
       "<tr>\n",
       "    <td></td>       <th>coef</th>     <th>std err</th>      <th>t</th>      <th>P>|t|</th>  <th>[0.025</th>    <th>0.975]</th>  \n",
       "</tr>\n",
       "<tr>\n",
       "  <th>const</th> <td>  121.8318</td> <td>   11.042</td> <td>   11.033</td> <td> 0.000</td> <td>   98.868</td> <td>  144.795</td>\n",
       "</tr>\n",
       "<tr>\n",
       "  <th>x1</th>    <td>   -1.5270</td> <td>    0.273</td> <td>   -5.596</td> <td> 0.000</td> <td>   -2.095</td> <td>   -0.960</td>\n",
       "</tr>\n",
       "</table>\n",
       "<table class=\"simpletable\">\n",
       "<tr>\n",
       "  <th>Omnibus:</th>       <td> 3.442</td> <th>  Durbin-Watson:     </th> <td>   2.124</td>\n",
       "</tr>\n",
       "<tr>\n",
       "  <th>Prob(Omnibus):</th> <td> 0.179</td> <th>  Jarque-Bera (JB):  </th> <td>   1.709</td>\n",
       "</tr>\n",
       "<tr>\n",
       "  <th>Skew:</th>          <td>-0.352</td> <th>  Prob(JB):          </th> <td>   0.426</td>\n",
       "</tr>\n",
       "<tr>\n",
       "  <th>Kurtosis:</th>      <td> 1.866</td> <th>  Cond. No.          </th> <td>    198.</td>\n",
       "</tr>\n",
       "</table><br/><br/>Warnings:<br/>[1] Standard Errors assume that the covariance matrix of the errors is correctly specified."
      ],
      "text/plain": [
       "<class 'statsmodels.iolib.summary.Summary'>\n",
       "\"\"\"\n",
       "                            OLS Regression Results                            \n",
       "==============================================================================\n",
       "Dep. Variable:                      y   R-squared:                       0.599\n",
       "Model:                            OLS   Adj. R-squared:                  0.579\n",
       "Method:                 Least Squares   F-statistic:                     31.31\n",
       "Date:                Sat, 28 Sep 2019   Prob (F-statistic):           1.49e-05\n",
       "Time:                        23:06:02   Log-Likelihood:                -86.400\n",
       "No. Observations:                  23   AIC:                             176.8\n",
       "Df Residuals:                      21   BIC:                             179.1\n",
       "Df Model:                           1                                         \n",
       "Covariance Type:            nonrobust                                         \n",
       "==============================================================================\n",
       "                 coef    std err          t      P>|t|      [0.025      0.975]\n",
       "------------------------------------------------------------------------------\n",
       "const        121.8318     11.042     11.033      0.000      98.868     144.795\n",
       "x1            -1.5270      0.273     -5.596      0.000      -2.095      -0.960\n",
       "==============================================================================\n",
       "Omnibus:                        3.442   Durbin-Watson:                   2.124\n",
       "Prob(Omnibus):                  0.179   Jarque-Bera (JB):                1.709\n",
       "Skew:                          -0.352   Prob(JB):                        0.426\n",
       "Kurtosis:                       1.866   Cond. No.                         198.\n",
       "==============================================================================\n",
       "\n",
       "Warnings:\n",
       "[1] Standard Errors assume that the covariance matrix of the errors is correctly specified.\n",
       "\"\"\""
      ]
     },
     "execution_count": 39,
     "metadata": {},
     "output_type": "execute_result"
    }
   ],
   "source": [
    "X_dataset=df[['AGE']]\n",
    "y_dataset=df[['SATISFAC']]\n",
    "X=X_dataset.iloc[:].values\n",
    "y=y_dataset.iloc[:].values\n",
    "X_with_const=sm.add_constant(X)\n",
    "model=sm.OLS(endog=y,exog=X_with_const)\n",
    "results=model.fit()\n",
    "results.summary()"
   ]
  },
  {
   "cell_type": "code",
   "execution_count": 42,
   "metadata": {},
   "outputs": [
    {
     "data": {
      "text/plain": [
       "(99.7478, 143.9158)"
      ]
     },
     "execution_count": 42,
     "metadata": {},
     "output_type": "execute_result"
    }
   ],
   "source": [
    "Q = 121.8318+2*11.042 #Confidence_interval_for_AGE_Beta0\n",
    "W = 121.8318-2*11.042\n",
    "W,Q"
   ]
  },
  {
   "cell_type": "code",
   "execution_count": 44,
   "metadata": {},
   "outputs": [
    {
     "data": {
      "text/plain": [
       "(-2.073, -0.9809999999999999)"
      ]
     },
     "execution_count": 44,
     "metadata": {},
     "output_type": "execute_result"
    }
   ],
   "source": [
    "Q = -1.5270+2*0.273 #Confidence_interval_for_AGE_Beta1\n",
    "W = -1.5270-2*0.273\n",
    "W,Q"
   ]
  },
  {
   "cell_type": "code",
   "execution_count": 40,
   "metadata": {},
   "outputs": [
    {
     "data": {
      "text/html": [
       "<table class=\"simpletable\">\n",
       "<caption>OLS Regression Results</caption>\n",
       "<tr>\n",
       "  <th>Dep. Variable:</th>            <td>y</td>        <th>  R-squared:         </th> <td>   0.345</td>\n",
       "</tr>\n",
       "<tr>\n",
       "  <th>Model:</th>                   <td>OLS</td>       <th>  Adj. R-squared:    </th> <td>   0.314</td>\n",
       "</tr>\n",
       "<tr>\n",
       "  <th>Method:</th>             <td>Least Squares</td>  <th>  F-statistic:       </th> <td>   11.07</td>\n",
       "</tr>\n",
       "<tr>\n",
       "  <th>Date:</th>             <td>Sat, 28 Sep 2019</td> <th>  Prob (F-statistic):</th>  <td>0.00321</td>\n",
       "</tr>\n",
       "<tr>\n",
       "  <th>Time:</th>                 <td>23:07:09</td>     <th>  Log-Likelihood:    </th> <td> -92.029</td>\n",
       "</tr>\n",
       "<tr>\n",
       "  <th>No. Observations:</th>      <td>    23</td>      <th>  AIC:               </th> <td>   188.1</td>\n",
       "</tr>\n",
       "<tr>\n",
       "  <th>Df Residuals:</th>          <td>    21</td>      <th>  BIC:               </th> <td>   190.3</td>\n",
       "</tr>\n",
       "<tr>\n",
       "  <th>Df Model:</th>              <td>     1</td>      <th>                     </th>     <td> </td>   \n",
       "</tr>\n",
       "<tr>\n",
       "  <th>Covariance Type:</th>      <td>nonrobust</td>    <th>                     </th>     <td> </td>   \n",
       "</tr>\n",
       "</table>\n",
       "<table class=\"simpletable\">\n",
       "<tr>\n",
       "    <td></td>       <th>coef</th>     <th>std err</th>      <th>t</th>      <th>P>|t|</th>  <th>[0.025</th>    <th>0.975]</th>  \n",
       "</tr>\n",
       "<tr>\n",
       "  <th>const</th> <td>  173.6140</td> <td>   33.872</td> <td>    5.126</td> <td> 0.000</td> <td>  103.173</td> <td>  244.056</td>\n",
       "</tr>\n",
       "<tr>\n",
       "  <th>x1</th>    <td>   -2.2107</td> <td>    0.665</td> <td>   -3.326</td> <td> 0.003</td> <td>   -3.593</td> <td>   -0.829</td>\n",
       "</tr>\n",
       "</table>\n",
       "<table class=\"simpletable\">\n",
       "<tr>\n",
       "  <th>Omnibus:</th>       <td> 2.037</td> <th>  Durbin-Watson:     </th> <td>   1.284</td>\n",
       "</tr>\n",
       "<tr>\n",
       "  <th>Prob(Omnibus):</th> <td> 0.361</td> <th>  Jarque-Bera (JB):  </th> <td>   1.643</td>\n",
       "</tr>\n",
       "<tr>\n",
       "  <th>Skew:</th>          <td> 0.510</td> <th>  Prob(JB):          </th> <td>   0.440</td>\n",
       "</tr>\n",
       "<tr>\n",
       "  <th>Kurtosis:</th>      <td> 2.178</td> <th>  Cond. No.          </th> <td>    598.</td>\n",
       "</tr>\n",
       "</table><br/><br/>Warnings:<br/>[1] Standard Errors assume that the covariance matrix of the errors is correctly specified."
      ],
      "text/plain": [
       "<class 'statsmodels.iolib.summary.Summary'>\n",
       "\"\"\"\n",
       "                            OLS Regression Results                            \n",
       "==============================================================================\n",
       "Dep. Variable:                      y   R-squared:                       0.345\n",
       "Model:                            OLS   Adj. R-squared:                  0.314\n",
       "Method:                 Least Squares   F-statistic:                     11.07\n",
       "Date:                Sat, 28 Sep 2019   Prob (F-statistic):            0.00321\n",
       "Time:                        23:07:09   Log-Likelihood:                -92.029\n",
       "No. Observations:                  23   AIC:                             188.1\n",
       "Df Residuals:                      21   BIC:                             190.3\n",
       "Df Model:                           1                                         \n",
       "Covariance Type:            nonrobust                                         \n",
       "==============================================================================\n",
       "                 coef    std err          t      P>|t|      [0.025      0.975]\n",
       "------------------------------------------------------------------------------\n",
       "const        173.6140     33.872      5.126      0.000     103.173     244.056\n",
       "x1            -2.2107      0.665     -3.326      0.003      -3.593      -0.829\n",
       "==============================================================================\n",
       "Omnibus:                        2.037   Durbin-Watson:                   1.284\n",
       "Prob(Omnibus):                  0.361   Jarque-Bera (JB):                1.643\n",
       "Skew:                           0.510   Prob(JB):                        0.440\n",
       "Kurtosis:                       2.178   Cond. No.                         598.\n",
       "==============================================================================\n",
       "\n",
       "Warnings:\n",
       "[1] Standard Errors assume that the covariance matrix of the errors is correctly specified.\n",
       "\"\"\""
      ]
     },
     "execution_count": 40,
     "metadata": {},
     "output_type": "execute_result"
    }
   ],
   "source": [
    "X_dataset=df[['SEVERITY']]\n",
    "y_dataset=df[['SATISFAC']]\n",
    "X=X_dataset.iloc[:].values\n",
    "y=y_dataset.iloc[:].values\n",
    "X_with_const=sm.add_constant(X)\n",
    "model=sm.OLS(endog=y,exog=X_with_const)\n",
    "results=model.fit()\n",
    "results.summary()"
   ]
  },
  {
   "cell_type": "code",
   "execution_count": 45,
   "metadata": {},
   "outputs": [
    {
     "data": {
      "text/plain": [
       "(-3.5407, -0.8807)"
      ]
     },
     "execution_count": 45,
     "metadata": {},
     "output_type": "execute_result"
    }
   ],
   "source": [
    "Q = -2.2107+2*0.665 #Confidence_interval_for_SEVERITY_Beta_1\n",
    "W = -2.2107-2*0.665\n",
    "W,Q"
   ]
  },
  {
   "cell_type": "code",
   "execution_count": 46,
   "metadata": {},
   "outputs": [
    {
     "data": {
      "text/plain": [
       "(105.87, 241.358)"
      ]
     },
     "execution_count": 46,
     "metadata": {},
     "output_type": "execute_result"
    }
   ],
   "source": [
    "Q = 173.614+2*33.872 #Confidence_interval_for_SEVERITY_Beta_0\n",
    "W = 173.614-2*33.872\n",
    "W,Q"
   ]
  },
  {
   "cell_type": "code",
   "execution_count": 41,
   "metadata": {},
   "outputs": [
    {
     "data": {
      "text/html": [
       "<table class=\"simpletable\">\n",
       "<caption>OLS Regression Results</caption>\n",
       "<tr>\n",
       "  <th>Dep. Variable:</th>            <td>y</td>        <th>  R-squared:         </th> <td>   0.363</td>\n",
       "</tr>\n",
       "<tr>\n",
       "  <th>Model:</th>                   <td>OLS</td>       <th>  Adj. R-squared:    </th> <td>   0.332</td>\n",
       "</tr>\n",
       "<tr>\n",
       "  <th>Method:</th>             <td>Least Squares</td>  <th>  F-statistic:       </th> <td>   11.96</td>\n",
       "</tr>\n",
       "<tr>\n",
       "  <th>Date:</th>             <td>Sat, 28 Sep 2019</td> <th>  Prob (F-statistic):</th>  <td>0.00236</td>\n",
       "</tr>\n",
       "<tr>\n",
       "  <th>Time:</th>                 <td>23:07:26</td>     <th>  Log-Likelihood:    </th> <td> -91.715</td>\n",
       "</tr>\n",
       "<tr>\n",
       "  <th>No. Observations:</th>      <td>    23</td>      <th>  AIC:               </th> <td>   187.4</td>\n",
       "</tr>\n",
       "<tr>\n",
       "  <th>Df Residuals:</th>          <td>    21</td>      <th>  BIC:               </th> <td>   189.7</td>\n",
       "</tr>\n",
       "<tr>\n",
       "  <th>Df Model:</th>              <td>     1</td>      <th>                     </th>     <td> </td>   \n",
       "</tr>\n",
       "<tr>\n",
       "  <th>Covariance Type:</th>      <td>nonrobust</td>    <th>                     </th>     <td> </td>   \n",
       "</tr>\n",
       "</table>\n",
       "<table class=\"simpletable\">\n",
       "<tr>\n",
       "    <td></td>       <th>coef</th>     <th>std err</th>      <th>t</th>      <th>P>|t|</th>  <th>[0.025</th>    <th>0.975]</th>  \n",
       "</tr>\n",
       "<tr>\n",
       "  <th>const</th> <td>  137.4319</td> <td>   22.188</td> <td>    6.194</td> <td> 0.000</td> <td>   91.290</td> <td>  183.574</td>\n",
       "</tr>\n",
       "<tr>\n",
       "  <th>x1</th>    <td>  -33.1427</td> <td>    9.585</td> <td>   -3.458</td> <td> 0.002</td> <td>  -53.076</td> <td>  -13.209</td>\n",
       "</tr>\n",
       "</table>\n",
       "<table class=\"simpletable\">\n",
       "<tr>\n",
       "  <th>Omnibus:</th>       <td> 2.280</td> <th>  Durbin-Watson:     </th> <td>   1.512</td>\n",
       "</tr>\n",
       "<tr>\n",
       "  <th>Prob(Omnibus):</th> <td> 0.320</td> <th>  Jarque-Bera (JB):  </th> <td>   1.832</td>\n",
       "</tr>\n",
       "<tr>\n",
       "  <th>Skew:</th>          <td> 0.667</td> <th>  Prob(JB):          </th> <td>   0.400</td>\n",
       "</tr>\n",
       "<tr>\n",
       "  <th>Kurtosis:</th>      <td> 2.637</td> <th>  Cond. No.          </th> <td>    21.4</td>\n",
       "</tr>\n",
       "</table><br/><br/>Warnings:<br/>[1] Standard Errors assume that the covariance matrix of the errors is correctly specified."
      ],
      "text/plain": [
       "<class 'statsmodels.iolib.summary.Summary'>\n",
       "\"\"\"\n",
       "                            OLS Regression Results                            \n",
       "==============================================================================\n",
       "Dep. Variable:                      y   R-squared:                       0.363\n",
       "Model:                            OLS   Adj. R-squared:                  0.332\n",
       "Method:                 Least Squares   F-statistic:                     11.96\n",
       "Date:                Sat, 28 Sep 2019   Prob (F-statistic):            0.00236\n",
       "Time:                        23:07:26   Log-Likelihood:                -91.715\n",
       "No. Observations:                  23   AIC:                             187.4\n",
       "Df Residuals:                      21   BIC:                             189.7\n",
       "Df Model:                           1                                         \n",
       "Covariance Type:            nonrobust                                         \n",
       "==============================================================================\n",
       "                 coef    std err          t      P>|t|      [0.025      0.975]\n",
       "------------------------------------------------------------------------------\n",
       "const        137.4319     22.188      6.194      0.000      91.290     183.574\n",
       "x1           -33.1427      9.585     -3.458      0.002     -53.076     -13.209\n",
       "==============================================================================\n",
       "Omnibus:                        2.280   Durbin-Watson:                   1.512\n",
       "Prob(Omnibus):                  0.320   Jarque-Bera (JB):                1.832\n",
       "Skew:                           0.667   Prob(JB):                        0.400\n",
       "Kurtosis:                       2.637   Cond. No.                         21.4\n",
       "==============================================================================\n",
       "\n",
       "Warnings:\n",
       "[1] Standard Errors assume that the covariance matrix of the errors is correctly specified.\n",
       "\"\"\""
      ]
     },
     "execution_count": 41,
     "metadata": {},
     "output_type": "execute_result"
    }
   ],
   "source": [
    "X_dataset=df[['ANXIETY']]\n",
    "y_dataset=df[['SATISFAC']]\n",
    "X=X_dataset.iloc[:].values\n",
    "y=y_dataset.iloc[:].values\n",
    "X_with_const=sm.add_constant(X)\n",
    "model=sm.OLS(endog=y,exog=X_with_const)\n",
    "results=model.fit()\n",
    "results.summary()"
   ]
  },
  {
   "cell_type": "code",
   "execution_count": 47,
   "metadata": {},
   "outputs": [
    {
     "data": {
      "text/plain": [
       "(-52.3127, -13.972699999999996)"
      ]
     },
     "execution_count": 47,
     "metadata": {},
     "output_type": "execute_result"
    }
   ],
   "source": [
    "Q = -33.1427+2*9.585 #Confidence_interval_for_ANXIETY_Beta1\n",
    "W = -33.1427-2*9.585\n",
    "W,Q"
   ]
  },
  {
   "cell_type": "code",
   "execution_count": 48,
   "metadata": {},
   "outputs": [
    {
     "data": {
      "text/plain": [
       "(93.05590000000001, 181.80790000000002)"
      ]
     },
     "execution_count": 48,
     "metadata": {},
     "output_type": "execute_result"
    }
   ],
   "source": [
    "Q = 137.4319+2*22.188 #Confidence_interval_for_ANXIETY_Beta0\n",
    "W = 137.4319-2*22.188\n",
    "W,Q"
   ]
  },
  {
   "cell_type": "code",
   "execution_count": 151,
   "metadata": {},
   "outputs": [
    {
     "data": {
      "text/plain": [
       "0     2500\n",
       "1     1296\n",
       "2     1600\n",
       "3     1681\n",
       "4      784\n",
       "5     2401\n",
       "6     1764\n",
       "7     2025\n",
       "8     2704\n",
       "9      841\n",
       "10     841\n",
       "11    1849\n",
       "12    1444\n",
       "13    1156\n",
       "14    2809\n",
       "15    1296\n",
       "16    1089\n",
       "17     841\n",
       "18    1089\n",
       "19    3025\n",
       "20     841\n",
       "21    1936\n",
       "22    1849\n",
       "Name: AGE, dtype: int64"
      ]
     },
     "execution_count": 151,
     "metadata": {},
     "output_type": "execute_result"
    }
   ],
   "source": [
    "X = df.AGE #Transformations\n",
    "Y = X*X\n",
    "Y"
   ]
  },
  {
   "cell_type": "code",
   "execution_count": 150,
   "metadata": {},
   "outputs": [
    {
     "data": {
      "text/plain": [
       "0     7.071068\n",
       "1     6.000000\n",
       "2     6.324555\n",
       "3     6.403124\n",
       "4     5.291503\n",
       "5     7.000000\n",
       "6     6.480741\n",
       "7     6.708204\n",
       "8     7.211103\n",
       "9     5.385165\n",
       "10    5.385165\n",
       "11    6.557439\n",
       "12    6.164414\n",
       "13    5.830952\n",
       "14    7.280110\n",
       "15    6.000000\n",
       "16    5.744563\n",
       "17    5.385165\n",
       "18    5.744563\n",
       "19    7.416198\n",
       "20    5.385165\n",
       "21    6.633250\n",
       "22    6.557439\n",
       "Name: AGE, dtype: float64"
      ]
     },
     "execution_count": 150,
     "metadata": {},
     "output_type": "execute_result"
    }
   ],
   "source": [
    "Z = np.sqrt(X)\n",
    "Z"
   ]
  },
  {
   "cell_type": "code",
   "execution_count": 144,
   "metadata": {},
   "outputs": [
    {
     "data": {
      "text/plain": [
       "0     1.956012\n",
       "1     1.791759\n",
       "2     1.844440\n",
       "3     1.856786\n",
       "4     1.666102\n",
       "5     1.945910\n",
       "6     1.868835\n",
       "7     1.903331\n",
       "8     1.975622\n",
       "9     1.683648\n",
       "10    1.683648\n",
       "11    1.880600\n",
       "12    1.818793\n",
       "13    1.763180\n",
       "14    1.985146\n",
       "15    1.791759\n",
       "16    1.748254\n",
       "17    1.683648\n",
       "18    1.748254\n",
       "19    2.003667\n",
       "20    1.683648\n",
       "21    1.892095\n",
       "22    1.880600\n",
       "Name: AGE, dtype: float64"
      ]
     },
     "execution_count": 144,
     "metadata": {},
     "output_type": "execute_result"
    }
   ],
   "source": [
    "C = np.log(Z)\n",
    "C"
   ]
  },
  {
   "cell_type": "code",
   "execution_count": 131,
   "metadata": {},
   "outputs": [
    {
     "data": {
      "text/plain": [
       "0     5.29\n",
       "1     5.29\n",
       "2     4.84\n",
       "3     3.24\n",
       "4     3.24\n",
       "5     8.41\n",
       "6     4.84\n",
       "7     5.76\n",
       "8     8.41\n",
       "9     4.41\n",
       "10    5.76\n",
       "11    5.76\n",
       "12    4.84\n",
       "13    5.29\n",
       "14    4.84\n",
       "15    4.00\n",
       "16    6.25\n",
       "17    3.61\n",
       "18    4.41\n",
       "19    5.76\n",
       "20    5.29\n",
       "21    8.41\n",
       "22    5.29\n",
       "Name: ANXIETY, dtype: float64"
      ]
     },
     "execution_count": 131,
     "metadata": {},
     "output_type": "execute_result"
    }
   ],
   "source": [
    "A = df.ANXIETY\n",
    "B = A*A\n",
    "B"
   ]
  },
  {
   "cell_type": "code",
   "execution_count": 132,
   "metadata": {},
   "outputs": [
    {
     "data": {
      "text/plain": [
       "0     1.516575\n",
       "1     1.516575\n",
       "2     1.483240\n",
       "3     1.341641\n",
       "4     1.341641\n",
       "5     1.702939\n",
       "6     1.483240\n",
       "7     1.549193\n",
       "8     1.702939\n",
       "9     1.449138\n",
       "10    1.549193\n",
       "11    1.549193\n",
       "12    1.483240\n",
       "13    1.516575\n",
       "14    1.483240\n",
       "15    1.414214\n",
       "16    1.581139\n",
       "17    1.378405\n",
       "18    1.449138\n",
       "19    1.549193\n",
       "20    1.516575\n",
       "21    1.702939\n",
       "22    1.516575\n",
       "Name: ANXIETY, dtype: float64"
      ]
     },
     "execution_count": 132,
     "metadata": {},
     "output_type": "execute_result"
    }
   ],
   "source": [
    "D = np.sqrt(A)\n",
    "D"
   ]
  },
  {
   "cell_type": "code",
   "execution_count": 133,
   "metadata": {},
   "outputs": [
    {
     "data": {
      "text/plain": [
       "0     0.416455\n",
       "1     0.416455\n",
       "2     0.394229\n",
       "3     0.293893\n",
       "4     0.293893\n",
       "5     0.532355\n",
       "6     0.394229\n",
       "7     0.437734\n",
       "8     0.532355\n",
       "9     0.370969\n",
       "10    0.437734\n",
       "11    0.437734\n",
       "12    0.394229\n",
       "13    0.416455\n",
       "14    0.394229\n",
       "15    0.346574\n",
       "16    0.458145\n",
       "17    0.320927\n",
       "18    0.370969\n",
       "19    0.437734\n",
       "20    0.416455\n",
       "21    0.532355\n",
       "22    0.416455\n",
       "Name: ANXIETY, dtype: float64"
      ]
     },
     "execution_count": 133,
     "metadata": {},
     "output_type": "execute_result"
    }
   ],
   "source": [
    "E = np.log(D)\n",
    "E"
   ]
  },
  {
   "cell_type": "code",
   "execution_count": 134,
   "metadata": {},
   "outputs": [
    {
     "data": {
      "text/plain": [
       "0     5.29\n",
       "1     5.29\n",
       "2     4.84\n",
       "3     3.24\n",
       "4     3.24\n",
       "5     8.41\n",
       "6     4.84\n",
       "7     5.76\n",
       "8     8.41\n",
       "9     4.41\n",
       "10    5.76\n",
       "11    5.76\n",
       "12    4.84\n",
       "13    5.29\n",
       "14    4.84\n",
       "15    4.00\n",
       "16    6.25\n",
       "17    3.61\n",
       "18    4.41\n",
       "19    5.76\n",
       "20    5.29\n",
       "21    8.41\n",
       "22    5.29\n",
       "Name: ANXIETY, dtype: float64"
      ]
     },
     "execution_count": 134,
     "metadata": {},
     "output_type": "execute_result"
    }
   ],
   "source": [
    "F = df.ANXIETY\n",
    "G = F**2\n",
    "G"
   ]
  },
  {
   "cell_type": "code",
   "execution_count": 135,
   "metadata": {},
   "outputs": [
    {
     "data": {
      "text/plain": [
       "0     1.516575\n",
       "1     1.516575\n",
       "2     1.483240\n",
       "3     1.341641\n",
       "4     1.341641\n",
       "5     1.702939\n",
       "6     1.483240\n",
       "7     1.549193\n",
       "8     1.702939\n",
       "9     1.449138\n",
       "10    1.549193\n",
       "11    1.549193\n",
       "12    1.483240\n",
       "13    1.516575\n",
       "14    1.483240\n",
       "15    1.414214\n",
       "16    1.581139\n",
       "17    1.378405\n",
       "18    1.449138\n",
       "19    1.549193\n",
       "20    1.516575\n",
       "21    1.702939\n",
       "22    1.516575\n",
       "Name: ANXIETY, dtype: float64"
      ]
     },
     "execution_count": 135,
     "metadata": {},
     "output_type": "execute_result"
    }
   ],
   "source": [
    "G = np.sqrt(F)\n",
    "G"
   ]
  },
  {
   "cell_type": "code",
   "execution_count": 136,
   "metadata": {},
   "outputs": [
    {
     "data": {
      "text/plain": [
       "0     0.416455\n",
       "1     0.416455\n",
       "2     0.394229\n",
       "3     0.293893\n",
       "4     0.293893\n",
       "5     0.532355\n",
       "6     0.394229\n",
       "7     0.437734\n",
       "8     0.532355\n",
       "9     0.370969\n",
       "10    0.437734\n",
       "11    0.437734\n",
       "12    0.394229\n",
       "13    0.416455\n",
       "14    0.394229\n",
       "15    0.346574\n",
       "16    0.458145\n",
       "17    0.320927\n",
       "18    0.370969\n",
       "19    0.437734\n",
       "20    0.416455\n",
       "21    0.532355\n",
       "22    0.416455\n",
       "Name: ANXIETY, dtype: float64"
      ]
     },
     "execution_count": 136,
     "metadata": {},
     "output_type": "execute_result"
    }
   ],
   "source": [
    "H = np.log(G)\n",
    "H"
   ]
  },
  {
   "cell_type": "code",
   "execution_count": 137,
   "metadata": {},
   "outputs": [
    {
     "data": {
      "text/plain": [
       "0     2601\n",
       "1     2116\n",
       "2     2304\n",
       "3     1936\n",
       "4     1849\n",
       "5     2916\n",
       "6     2500\n",
       "7     2304\n",
       "8     3844\n",
       "9     2500\n",
       "10    2304\n",
       "11    2809\n",
       "12    3025\n",
       "13    2601\n",
       "14    2916\n",
       "15    2401\n",
       "16    3136\n",
       "17    2116\n",
       "18    2401\n",
       "19    2601\n",
       "20    2704\n",
       "21    3364\n",
       "22    2500\n",
       "Name: SEVERITY, dtype: int64"
      ]
     },
     "execution_count": 137,
     "metadata": {},
     "output_type": "execute_result"
    }
   ],
   "source": [
    "I = df.SEVERITY\n",
    "J = I**2\n",
    "J"
   ]
  },
  {
   "cell_type": "code",
   "execution_count": 138,
   "metadata": {},
   "outputs": [
    {
     "data": {
      "text/plain": [
       "0     7.141428\n",
       "1     6.782330\n",
       "2     6.928203\n",
       "3     6.633250\n",
       "4     6.557439\n",
       "5     7.348469\n",
       "6     7.071068\n",
       "7     6.928203\n",
       "8     7.874008\n",
       "9     7.071068\n",
       "10    6.928203\n",
       "11    7.280110\n",
       "12    7.416198\n",
       "13    7.141428\n",
       "14    7.348469\n",
       "15    7.000000\n",
       "16    7.483315\n",
       "17    6.782330\n",
       "18    7.000000\n",
       "19    7.141428\n",
       "20    7.211103\n",
       "21    7.615773\n",
       "22    7.071068\n",
       "Name: SEVERITY, dtype: float64"
      ]
     },
     "execution_count": 138,
     "metadata": {},
     "output_type": "execute_result"
    }
   ],
   "source": [
    "K = np.sqrt(I)\n",
    "K"
   ]
  },
  {
   "cell_type": "code",
   "execution_count": 139,
   "metadata": {},
   "outputs": [
    {
     "data": {
      "text/plain": [
       "0     1.965913\n",
       "1     1.914321\n",
       "2     1.935601\n",
       "3     1.892095\n",
       "4     1.880600\n",
       "5     1.994492\n",
       "6     1.956012\n",
       "7     1.935601\n",
       "8     2.063567\n",
       "9     1.956012\n",
       "10    1.935601\n",
       "11    1.985146\n",
       "12    2.003667\n",
       "13    1.965913\n",
       "14    1.994492\n",
       "15    1.945910\n",
       "16    2.012676\n",
       "17    1.914321\n",
       "18    1.945910\n",
       "19    1.965913\n",
       "20    1.975622\n",
       "21    2.030222\n",
       "22    1.956012\n",
       "Name: SEVERITY, dtype: float64"
      ]
     },
     "execution_count": 139,
     "metadata": {},
     "output_type": "execute_result"
    }
   ],
   "source": [
    "L = np.log(K)\n",
    "L"
   ]
  },
  {
   "cell_type": "code",
   "execution_count": 49,
   "metadata": {},
   "outputs": [],
   "source": [
    "from sklearn.preprocessing import PolynomialFeatures  #Fitting_Linear_Regression_degree=3\n",
    "poly = PolynomialFeatures(degree=3)\n",
    "X_F1_poly = poly.fit_transform(df[['AGE','ANXIETY','SEVERITY']])"
   ]
  },
  {
   "cell_type": "code",
   "execution_count": 10,
   "metadata": {},
   "outputs": [
    {
     "name": "stdout",
     "output_type": "stream",
     "text": [
      "(poly deg 3) linear model coeff (w):\n",
      "[ 0.00000000e+00  1.67859354e+03 -4.45591708e+04 -2.72909917e+02\n",
      " -1.92430961e+01  9.00725469e+02 -7.63483157e+01 -4.72485452e+02\n",
      "  1.08061158e+03  1.05271119e+01  3.35470272e-04  2.03359829e+00\n",
      "  2.83506236e-01 -3.89656740e+02  1.43278769e+01  2.04205272e-01\n",
      "  5.33723460e+03 -4.02698739e+02  1.78466603e+00 -1.44435085e-01]\n",
      "(poly deg 3) linear model intercept (b): 16882.573\n",
      "(poly deg 3) R-squared score (training): 0.992\n"
     ]
    }
   ],
   "source": [
    "linreg = LinearRegression().fit(X_F1_poly, df.SATISFAC)\n",
    "\n",
    "print('(poly deg 3) linear model coeff (w):\\n{}'\n",
    "     .format(linreg.coef_))\n",
    "print('(poly deg 3) linear model intercept (b): {:.3f}'\n",
    "     .format(linreg.intercept_))\n",
    "print('(poly deg 3) R-squared score (training): {:.3f}'\n",
    "     .format(linreg.score(X_F1_poly, df.SATISFAC)))"
   ]
  },
  {
   "cell_type": "code",
   "execution_count": 118,
   "metadata": {},
   "outputs": [
    {
     "name": "stdout",
     "output_type": "stream",
     "text": [
      "(poly deg 3) linear model coeff (w):\n",
      "[ 0.00000000e+00 -2.60234331e+01  5.55406197e-01 -4.06029057e-03]\n",
      "(poly deg 3) linear model intercept (b): 468.595\n",
      "(poly deg 3) R-squared score (training): 0.655\n"
     ]
    }
   ],
   "source": [
    "from sklearn.preprocessing import PolynomialFeatures\n",
    "poly = PolynomialFeatures(degree=3)\n",
    "X_F1_poly = poly.fit_transform(df[['AGE']])\n",
    "linreg = LinearRegression().fit(X_F1_poly, df.SATISFAC)\n",
    "\n",
    "print('(poly deg 3) linear model coeff (w):\\n{}'\n",
    "     .format(linreg.coef_))\n",
    "print('(poly deg 3) linear model intercept (b): {:.3f}'\n",
    "     .format(linreg.intercept_))\n",
    "print('(poly deg 3) R-squared score (training): {:.3f}'\n",
    "     .format(linreg.score(X_F1_poly, df.SATISFAC)))"
   ]
  },
  {
   "cell_type": "code",
   "execution_count": 98,
   "metadata": {},
   "outputs": [],
   "source": [
    "from sklearn.preprocessing import PolynomialFeatures\n",
    "poly = PolynomialFeatures(degree=3)\n",
    "X_F1_poly = poly.fit_transform(df[['ANXIETY']])"
   ]
  },
  {
   "cell_type": "code",
   "execution_count": 99,
   "metadata": {},
   "outputs": [
    {
     "name": "stdout",
     "output_type": "stream",
     "text": [
      "(poly deg 3) linear model coeff (w):\n",
      "[    0.         -3543.06994937  1518.86746996  -215.6659505 ]\n",
      "(poly deg 3) linear model intercept (b): 2799.787\n",
      "(poly deg 3) R-squared score (training): 0.469\n"
     ]
    }
   ],
   "source": [
    "linreg = LinearRegression().fit(X_F1_poly, df.SATISFAC)\n",
    "\n",
    "print('(poly deg 3) linear model coeff (w):\\n{}'\n",
    "     .format(linreg.coef_))\n",
    "print('(poly deg 3) linear model intercept (b): {:.3f}'\n",
    "     .format(linreg.intercept_))\n",
    "print('(poly deg 3) R-squared score (training): {:.3f}'\n",
    "     .format(linreg.score(X_F1_poly, df.SATISFAC)))"
   ]
  },
  {
   "cell_type": "code",
   "execution_count": 33,
   "metadata": {},
   "outputs": [],
   "source": [
    "from sklearn.preprocessing import PolynomialFeatures\n",
    "poly = PolynomialFeatures(degree=3)\n",
    "X_F1_poly = poly.fit_transform(df[['SEVERITY']])"
   ]
  },
  {
   "cell_type": "code",
   "execution_count": 34,
   "metadata": {},
   "outputs": [
    {
     "name": "stdout",
     "output_type": "stream",
     "text": [
      "(poly deg 3) linear model coeff (w):\n",
      "[ 0.00000000e+00 -2.17684004e+02  4.14862867e+00 -2.64360897e-02]\n",
      "(poly deg 3) linear model intercept (b): 3878.111\n",
      "(poly deg 3) R-squared score (training): 0.398\n"
     ]
    }
   ],
   "source": [
    "linreg = LinearRegression().fit(X_F1_poly, df.SATISFAC)\n",
    "\n",
    "print('(poly deg 3) linear model coeff (w):\\n{}'\n",
    "     .format(linreg.coef_))\n",
    "print('(poly deg 3) linear model intercept (b): {:.3f}'\n",
    "     .format(linreg.intercept_))\n",
    "print('(poly deg 3) R-squared score (training): {:.3f}'\n",
    "     .format(linreg.score(X_F1_poly, df.SATISFAC)))"
   ]
  },
  {
   "cell_type": "code",
   "execution_count": 37,
   "metadata": {},
   "outputs": [
    {
     "data": {
      "text/html": [
       "<table class=\"simpletable\">\n",
       "<caption>OLS Regression Results</caption>\n",
       "<tr>\n",
       "  <th>Dep. Variable:</th>            <td>y</td>        <th>  R-squared:         </th> <td>   0.992</td>\n",
       "</tr>\n",
       "<tr>\n",
       "  <th>Model:</th>                   <td>OLS</td>       <th>  Adj. R-squared:    </th> <td>   0.938</td>\n",
       "</tr>\n",
       "<tr>\n",
       "  <th>Method:</th>             <td>Least Squares</td>  <th>  F-statistic:       </th> <td>   18.50</td>\n",
       "</tr>\n",
       "<tr>\n",
       "  <th>Date:</th>             <td>Sat, 28 Sep 2019</td> <th>  Prob (F-statistic):</th>  <td>0.0171</td> \n",
       "</tr>\n",
       "<tr>\n",
       "  <th>Time:</th>                 <td>21:38:43</td>     <th>  Log-Likelihood:    </th> <td> -42.017</td>\n",
       "</tr>\n",
       "<tr>\n",
       "  <th>No. Observations:</th>      <td>    23</td>      <th>  AIC:               </th> <td>   124.0</td>\n",
       "</tr>\n",
       "<tr>\n",
       "  <th>Df Residuals:</th>          <td>     3</td>      <th>  BIC:               </th> <td>   146.7</td>\n",
       "</tr>\n",
       "<tr>\n",
       "  <th>Df Model:</th>              <td>    19</td>      <th>                     </th>     <td> </td>   \n",
       "</tr>\n",
       "<tr>\n",
       "  <th>Covariance Type:</th>      <td>nonrobust</td>    <th>                     </th>     <td> </td>   \n",
       "</tr>\n",
       "</table>\n",
       "<table class=\"simpletable\">\n",
       "<tr>\n",
       "    <td></td>       <th>coef</th>     <th>std err</th>      <th>t</th>      <th>P>|t|</th>  <th>[0.025</th>    <th>0.975]</th>  \n",
       "</tr>\n",
       "<tr>\n",
       "  <th>const</th> <td> 1.688e+04</td> <td> 5027.476</td> <td>    3.358</td> <td> 0.044</td> <td>  882.899</td> <td> 3.29e+04</td>\n",
       "</tr>\n",
       "<tr>\n",
       "  <th>x1</th>    <td> 1678.5935</td> <td>  387.548</td> <td>    4.331</td> <td> 0.023</td> <td>  445.241</td> <td> 2911.946</td>\n",
       "</tr>\n",
       "<tr>\n",
       "  <th>x2</th>    <td>-4.456e+04</td> <td> 8197.212</td> <td>   -5.436</td> <td> 0.012</td> <td>-7.06e+04</td> <td>-1.85e+04</td>\n",
       "</tr>\n",
       "<tr>\n",
       "  <th>x3</th>    <td> -272.9099</td> <td>  330.603</td> <td>   -0.825</td> <td> 0.470</td> <td>-1325.035</td> <td>  779.215</td>\n",
       "</tr>\n",
       "<tr>\n",
       "  <th>x4</th>    <td>  -19.2431</td> <td>    3.825</td> <td>   -5.031</td> <td> 0.015</td> <td>  -31.416</td> <td>   -7.070</td>\n",
       "</tr>\n",
       "<tr>\n",
       "  <th>x5</th>    <td>  900.7255</td> <td>  209.868</td> <td>    4.292</td> <td> 0.023</td> <td>  232.833</td> <td> 1568.618</td>\n",
       "</tr>\n",
       "<tr>\n",
       "  <th>x6</th>    <td>  -76.3483</td> <td>   18.871</td> <td>   -4.046</td> <td> 0.027</td> <td> -136.405</td> <td>  -16.291</td>\n",
       "</tr>\n",
       "<tr>\n",
       "  <th>x7</th>    <td> -472.4854</td> <td> 1118.140</td> <td>   -0.423</td> <td> 0.701</td> <td>-4030.907</td> <td> 3085.936</td>\n",
       "</tr>\n",
       "<tr>\n",
       "  <th>x8</th>    <td> 1080.6116</td> <td>  240.400</td> <td>    4.495</td> <td> 0.021</td> <td>  315.551</td> <td> 1845.672</td>\n",
       "</tr>\n",
       "<tr>\n",
       "  <th>x9</th>    <td>   10.5271</td> <td>   10.072</td> <td>    1.045</td> <td> 0.373</td> <td>  -21.525</td> <td>   42.580</td>\n",
       "</tr>\n",
       "<tr>\n",
       "  <th>x10</th>   <td>    0.0003</td> <td>    0.005</td> <td>    0.069</td> <td> 0.950</td> <td>   -0.015</td> <td>    0.016</td>\n",
       "</tr>\n",
       "<tr>\n",
       "  <th>x11</th>   <td>    2.0336</td> <td>    0.683</td> <td>    2.979</td> <td> 0.059</td> <td>   -0.139</td> <td>    4.206</td>\n",
       "</tr>\n",
       "<tr>\n",
       "  <th>x12</th>   <td>    0.2835</td> <td>    0.049</td> <td>    5.778</td> <td> 0.010</td> <td>    0.127</td> <td>    0.440</td>\n",
       "</tr>\n",
       "<tr>\n",
       "  <th>x13</th>   <td> -389.6567</td> <td>   85.265</td> <td>   -4.570</td> <td> 0.020</td> <td> -661.007</td> <td> -118.306</td>\n",
       "</tr>\n",
       "<tr>\n",
       "  <th>x14</th>   <td>   14.3279</td> <td>    2.881</td> <td>    4.974</td> <td> 0.016</td> <td>    5.160</td> <td>   23.496</td>\n",
       "</tr>\n",
       "<tr>\n",
       "  <th>x15</th>   <td>    0.2042</td> <td>    0.112</td> <td>    1.823</td> <td> 0.166</td> <td>   -0.152</td> <td>    0.561</td>\n",
       "</tr>\n",
       "<tr>\n",
       "  <th>x16</th>   <td> 5337.2346</td> <td> 1674.573</td> <td>    3.187</td> <td> 0.050</td> <td>    7.997</td> <td> 1.07e+04</td>\n",
       "</tr>\n",
       "<tr>\n",
       "  <th>x17</th>   <td> -402.6987</td> <td>  152.622</td> <td>   -2.639</td> <td> 0.078</td> <td> -888.411</td> <td>   83.013</td>\n",
       "</tr>\n",
       "<tr>\n",
       "  <th>x18</th>   <td>    1.7847</td> <td>    5.157</td> <td>    0.346</td> <td> 0.752</td> <td>  -14.626</td> <td>   18.195</td>\n",
       "</tr>\n",
       "<tr>\n",
       "  <th>x19</th>   <td>   -0.1444</td> <td>    0.157</td> <td>   -0.920</td> <td> 0.425</td> <td>   -0.644</td> <td>    0.355</td>\n",
       "</tr>\n",
       "</table>\n",
       "<table class=\"simpletable\">\n",
       "<tr>\n",
       "  <th>Omnibus:</th>       <td> 2.067</td> <th>  Durbin-Watson:     </th> <td>   1.611</td>\n",
       "</tr>\n",
       "<tr>\n",
       "  <th>Prob(Omnibus):</th> <td> 0.356</td> <th>  Jarque-Bera (JB):  </th> <td>   0.723</td>\n",
       "</tr>\n",
       "<tr>\n",
       "  <th>Skew:</th>          <td>-0.222</td> <th>  Prob(JB):          </th> <td>   0.697</td>\n",
       "</tr>\n",
       "<tr>\n",
       "  <th>Kurtosis:</th>      <td> 3.746</td> <th>  Cond. No.          </th> <td>2.25e+09</td>\n",
       "</tr>\n",
       "</table><br/><br/>Warnings:<br/>[1] Standard Errors assume that the covariance matrix of the errors is correctly specified.<br/>[2] The condition number is large, 2.25e+09. This might indicate that there are<br/>strong multicollinearity or other numerical problems."
      ],
      "text/plain": [
       "<class 'statsmodels.iolib.summary.Summary'>\n",
       "\"\"\"\n",
       "                            OLS Regression Results                            \n",
       "==============================================================================\n",
       "Dep. Variable:                      y   R-squared:                       0.992\n",
       "Model:                            OLS   Adj. R-squared:                  0.938\n",
       "Method:                 Least Squares   F-statistic:                     18.50\n",
       "Date:                Sat, 28 Sep 2019   Prob (F-statistic):             0.0171\n",
       "Time:                        21:38:43   Log-Likelihood:                -42.017\n",
       "No. Observations:                  23   AIC:                             124.0\n",
       "Df Residuals:                       3   BIC:                             146.7\n",
       "Df Model:                          19                                         \n",
       "Covariance Type:            nonrobust                                         \n",
       "==============================================================================\n",
       "                 coef    std err          t      P>|t|      [0.025      0.975]\n",
       "------------------------------------------------------------------------------\n",
       "const       1.688e+04   5027.476      3.358      0.044     882.899    3.29e+04\n",
       "x1          1678.5935    387.548      4.331      0.023     445.241    2911.946\n",
       "x2         -4.456e+04   8197.212     -5.436      0.012   -7.06e+04   -1.85e+04\n",
       "x3          -272.9099    330.603     -0.825      0.470   -1325.035     779.215\n",
       "x4           -19.2431      3.825     -5.031      0.015     -31.416      -7.070\n",
       "x5           900.7255    209.868      4.292      0.023     232.833    1568.618\n",
       "x6           -76.3483     18.871     -4.046      0.027    -136.405     -16.291\n",
       "x7          -472.4854   1118.140     -0.423      0.701   -4030.907    3085.936\n",
       "x8          1080.6116    240.400      4.495      0.021     315.551    1845.672\n",
       "x9            10.5271     10.072      1.045      0.373     -21.525      42.580\n",
       "x10            0.0003      0.005      0.069      0.950      -0.015       0.016\n",
       "x11            2.0336      0.683      2.979      0.059      -0.139       4.206\n",
       "x12            0.2835      0.049      5.778      0.010       0.127       0.440\n",
       "x13         -389.6567     85.265     -4.570      0.020    -661.007    -118.306\n",
       "x14           14.3279      2.881      4.974      0.016       5.160      23.496\n",
       "x15            0.2042      0.112      1.823      0.166      -0.152       0.561\n",
       "x16         5337.2346   1674.573      3.187      0.050       7.997    1.07e+04\n",
       "x17         -402.6987    152.622     -2.639      0.078    -888.411      83.013\n",
       "x18            1.7847      5.157      0.346      0.752     -14.626      18.195\n",
       "x19           -0.1444      0.157     -0.920      0.425      -0.644       0.355\n",
       "==============================================================================\n",
       "Omnibus:                        2.067   Durbin-Watson:                   1.611\n",
       "Prob(Omnibus):                  0.356   Jarque-Bera (JB):                0.723\n",
       "Skew:                          -0.222   Prob(JB):                        0.697\n",
       "Kurtosis:                       3.746   Cond. No.                     2.25e+09\n",
       "==============================================================================\n",
       "\n",
       "Warnings:\n",
       "[1] Standard Errors assume that the covariance matrix of the errors is correctly specified.\n",
       "[2] The condition number is large, 2.25e+09. This might indicate that there are\n",
       "strong multicollinearity or other numerical problems.\n",
       "\"\"\""
      ]
     },
     "execution_count": 37,
     "metadata": {},
     "output_type": "execute_result"
    }
   ],
   "source": [
    "X_dataset=df[['AGE','ANXIETY','SEVERITY']]\n",
    "y_dataset=df[['SATISFAC']]\n",
    "X=X_dataset.iloc[:].values\n",
    "y=y_dataset.iloc[:].values\n",
    "import statsmodels.api as sm\n",
    "poly = PolynomialFeatures(degree=3)\n",
    "X_F1_poly = poly.fit_transform(df[['AGE','ANXIETY','SEVERITY']])\n",
    "X_with_const=sm.add_constant(X_F1_poly)\n",
    "model=sm.OLS(endog=y,exog=X_with_const)\n",
    "results=model.fit()\n",
    "results.summary()"
   ]
  },
  {
   "cell_type": "code",
   "execution_count": 38,
   "metadata": {},
   "outputs": [
    {
     "data": {
      "text/html": [
       "<table class=\"simpletable\">\n",
       "<caption>OLS Regression Results</caption>\n",
       "<tr>\n",
       "  <th>Dep. Variable:</th>            <td>y</td>        <th>  R-squared:         </th> <td>   0.655</td>\n",
       "</tr>\n",
       "<tr>\n",
       "  <th>Model:</th>                   <td>OLS</td>       <th>  Adj. R-squared:    </th> <td>   0.601</td>\n",
       "</tr>\n",
       "<tr>\n",
       "  <th>Method:</th>             <td>Least Squares</td>  <th>  F-statistic:       </th> <td>   12.03</td>\n",
       "</tr>\n",
       "<tr>\n",
       "  <th>Date:</th>             <td>Sat, 28 Sep 2019</td> <th>  Prob (F-statistic):</th> <td>0.000122</td>\n",
       "</tr>\n",
       "<tr>\n",
       "  <th>Time:</th>                 <td>21:52:33</td>     <th>  Log-Likelihood:    </th> <td> -84.656</td>\n",
       "</tr>\n",
       "<tr>\n",
       "  <th>No. Observations:</th>      <td>    23</td>      <th>  AIC:               </th> <td>   177.3</td>\n",
       "</tr>\n",
       "<tr>\n",
       "  <th>Df Residuals:</th>          <td>    19</td>      <th>  BIC:               </th> <td>   181.9</td>\n",
       "</tr>\n",
       "<tr>\n",
       "  <th>Df Model:</th>              <td>     3</td>      <th>                     </th>     <td> </td>   \n",
       "</tr>\n",
       "<tr>\n",
       "  <th>Covariance Type:</th>      <td>nonrobust</td>    <th>                     </th>     <td> </td>   \n",
       "</tr>\n",
       "</table>\n",
       "<table class=\"simpletable\">\n",
       "<tr>\n",
       "    <td></td>       <th>coef</th>     <th>std err</th>      <th>t</th>      <th>P>|t|</th>  <th>[0.025</th>    <th>0.975]</th>  \n",
       "</tr>\n",
       "<tr>\n",
       "  <th>const</th> <td>  468.5953</td> <td>  351.482</td> <td>    1.333</td> <td> 0.198</td> <td> -267.066</td> <td> 1204.256</td>\n",
       "</tr>\n",
       "<tr>\n",
       "  <th>x1</th>    <td>  -26.0234</td> <td>   26.907</td> <td>   -0.967</td> <td> 0.346</td> <td>  -82.341</td> <td>   30.294</td>\n",
       "</tr>\n",
       "<tr>\n",
       "  <th>x2</th>    <td>    0.5554</td> <td>    0.670</td> <td>    0.829</td> <td> 0.417</td> <td>   -0.847</td> <td>    1.957</td>\n",
       "</tr>\n",
       "<tr>\n",
       "  <th>x3</th>    <td>   -0.0041</td> <td>    0.005</td> <td>   -0.747</td> <td> 0.464</td> <td>   -0.015</td> <td>    0.007</td>\n",
       "</tr>\n",
       "</table>\n",
       "<table class=\"simpletable\">\n",
       "<tr>\n",
       "  <th>Omnibus:</th>       <td> 1.634</td> <th>  Durbin-Watson:     </th> <td>   1.835</td>\n",
       "</tr>\n",
       "<tr>\n",
       "  <th>Prob(Omnibus):</th> <td> 0.442</td> <th>  Jarque-Bera (JB):  </th> <td>   1.242</td>\n",
       "</tr>\n",
       "<tr>\n",
       "  <th>Skew:</th>          <td>-0.356</td> <th>  Prob(JB):          </th> <td>   0.537</td>\n",
       "</tr>\n",
       "<tr>\n",
       "  <th>Kurtosis:</th>      <td> 2.112</td> <th>  Cond. No.          </th> <td>1.32e+07</td>\n",
       "</tr>\n",
       "</table><br/><br/>Warnings:<br/>[1] Standard Errors assume that the covariance matrix of the errors is correctly specified.<br/>[2] The condition number is large, 1.32e+07. This might indicate that there are<br/>strong multicollinearity or other numerical problems."
      ],
      "text/plain": [
       "<class 'statsmodels.iolib.summary.Summary'>\n",
       "\"\"\"\n",
       "                            OLS Regression Results                            \n",
       "==============================================================================\n",
       "Dep. Variable:                      y   R-squared:                       0.655\n",
       "Model:                            OLS   Adj. R-squared:                  0.601\n",
       "Method:                 Least Squares   F-statistic:                     12.03\n",
       "Date:                Sat, 28 Sep 2019   Prob (F-statistic):           0.000122\n",
       "Time:                        21:52:33   Log-Likelihood:                -84.656\n",
       "No. Observations:                  23   AIC:                             177.3\n",
       "Df Residuals:                      19   BIC:                             181.9\n",
       "Df Model:                           3                                         \n",
       "Covariance Type:            nonrobust                                         \n",
       "==============================================================================\n",
       "                 coef    std err          t      P>|t|      [0.025      0.975]\n",
       "------------------------------------------------------------------------------\n",
       "const        468.5953    351.482      1.333      0.198    -267.066    1204.256\n",
       "x1           -26.0234     26.907     -0.967      0.346     -82.341      30.294\n",
       "x2             0.5554      0.670      0.829      0.417      -0.847       1.957\n",
       "x3            -0.0041      0.005     -0.747      0.464      -0.015       0.007\n",
       "==============================================================================\n",
       "Omnibus:                        1.634   Durbin-Watson:                   1.835\n",
       "Prob(Omnibus):                  0.442   Jarque-Bera (JB):                1.242\n",
       "Skew:                          -0.356   Prob(JB):                        0.537\n",
       "Kurtosis:                       2.112   Cond. No.                     1.32e+07\n",
       "==============================================================================\n",
       "\n",
       "Warnings:\n",
       "[1] Standard Errors assume that the covariance matrix of the errors is correctly specified.\n",
       "[2] The condition number is large, 1.32e+07. This might indicate that there are\n",
       "strong multicollinearity or other numerical problems.\n",
       "\"\"\""
      ]
     },
     "execution_count": 38,
     "metadata": {},
     "output_type": "execute_result"
    }
   ],
   "source": [
    "X_dataset=df[['AGE']]\n",
    "y_dataset=df[['SATISFAC']]\n",
    "X=X_dataset.iloc[:].values\n",
    "y=y_dataset.iloc[:].values\n",
    "import statsmodels.api as sm\n",
    "poly = PolynomialFeatures(degree=3)\n",
    "X_F1_poly = poly.fit_transform(df[['AGE']])\n",
    "X_with_const=sm.add_constant(X_F1_poly)\n",
    "model=sm.OLS(endog=y,exog=X_with_const)\n",
    "results=model.fit()\n",
    "results.summary()"
   ]
  },
  {
   "cell_type": "code",
   "execution_count": null,
   "metadata": {},
   "outputs": [],
   "source": []
  }
 ],
 "metadata": {
  "kernelspec": {
   "display_name": "Python 3",
   "language": "python",
   "name": "python3"
  },
  "language_info": {
   "codemirror_mode": {
    "name": "ipython",
    "version": 3
   },
   "file_extension": ".py",
   "mimetype": "text/x-python",
   "name": "python",
   "nbconvert_exporter": "python",
   "pygments_lexer": "ipython3",
   "version": "3.7.3"
  }
 },
 "nbformat": 4,
 "nbformat_minor": 2
}
